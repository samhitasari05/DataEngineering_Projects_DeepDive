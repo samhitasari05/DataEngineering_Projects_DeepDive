{
 "cells": [
  {
   "cell_type": "markdown",
   "id": "7d3ed1ba",
   "metadata": {},
   "source": [
    "# Week 5: Batch Processing with Spark (Homework)"
   ]
  },
  {
   "cell_type": "markdown",
   "id": "e923aba2",
   "metadata": {},
   "source": [
    "The datasets are downloaded from the following links:\n",
    "- https://github.com/DataTalksClub/nyc-tlc-data/releases/download/fhvhv/fhvhv_tripdata_2021-06.csv.gz\n",
    "- https://github.com/DataTalksClub/nyc-tlc-data/releases/download/misc/taxi_zone_lookup.csv"
   ]
  },
  {
   "cell_type": "code",
   "execution_count": 1,
   "id": "00bc6543",
   "metadata": {},
   "outputs": [],
   "source": [
    "import pyspark\n",
    "from pyspark.sql import SparkSession\n",
    "from pyspark.sql import types\n",
    "import pandas as pd"
   ]
  },
  {
   "cell_type": "code",
   "execution_count": 2,
   "id": "cd4a0f3d",
   "metadata": {},
   "outputs": [
    {
     "name": "stderr",
     "output_type": "stream",
     "text": [
      "Setting default log level to \"WARN\".\n",
      "To adjust logging level use sc.setLogLevel(newLevel). For SparkR, use setLogLevel(newLevel).\n"
     ]
    },
    {
     "name": "stdout",
     "output_type": "stream",
     "text": [
      "23/02/23 06:12:06 WARN NativeCodeLoader: Unable to load native-hadoop library for your platform... using builtin-java classes where applicable\n"
     ]
    }
   ],
   "source": [
    "spark = SparkSession.builder \\\n",
    "    .master(\"local[*]\") \\\n",
    "    .appName('homework') \\\n",
    "    .getOrCreate()"
   ]
  },
  {
   "cell_type": "markdown",
   "id": "06a47eba",
   "metadata": {},
   "source": [
    "### Q1. spark.version"
   ]
  },
  {
   "cell_type": "code",
   "execution_count": 3,
   "id": "eb3e4c36",
   "metadata": {},
   "outputs": [
    {
     "data": {
      "text/plain": [
       "'3.3.2'"
      ]
     },
     "execution_count": 3,
     "metadata": {},
     "output_type": "execute_result"
    }
   ],
   "source": [
    "spark.version"
   ]
  },
  {
   "cell_type": "markdown",
   "id": "34144542",
   "metadata": {},
   "source": [
    "### Q2. What is the average size of the Parquet Files that were created (in MB)?"
   ]
  },
  {
   "cell_type": "code",
   "execution_count": 4,
   "id": "0a3399a3",
   "metadata": {},
   "outputs": [],
   "source": [
    "schema = types.StructType([\n",
    "    types.StructField('dispatching_base_num', types.StringType(), True),\n",
    "    types.StructField('pickup_datetime', types.TimestampType(), True),\n",
    "    types.StructField('dropoff_datetime', types.TimestampType(), True),\n",
    "    types.StructField('PULocationID', types.IntegerType(), True),\n",
    "    types.StructField('DOLocationID', types.IntegerType(), True),\n",
    "    types.StructField('SR_Flag', types.StringType(), True),\n",
    "    types.StructField('Affiliated_base_number', types.StringType(), True)\n",
    "])"
   ]
  },
  {
   "cell_type": "code",
   "execution_count": 5,
   "id": "68bc8b72",
   "metadata": {
    "scrolled": true
   },
   "outputs": [],
   "source": [
    "df = spark.read \\\n",
    "    .option(\"header\", \"true\") \\\n",
    "    .schema(schema) \\\n",
    "    .csv('data/fhvhv_tripdata_2021-06.csv')"
   ]
  },
  {
   "cell_type": "code",
   "execution_count": 6,
   "id": "ffbf4dbf",
   "metadata": {},
   "outputs": [
    {
     "name": "stderr",
     "output_type": "stream",
     "text": [
      "[Stage 2:>                                                         (0 + 8) / 12]\r"
     ]
    },
    {
     "name": "stdout",
     "output_type": "stream",
     "text": [
      "23/02/23 06:12:36 WARN MemoryManager: Total allocation exceeds 95.00% (1,020,054,720 bytes) of heap memory\n",
      "Scaling row group sizes to 95.00% for 8 writers\n"
     ]
    },
    {
     "name": "stderr",
     "output_type": "stream",
     "text": [
      "                                                                                \r"
     ]
    }
   ],
   "source": [
    "df = df.repartition(12)\n",
    "\n",
    "df.write.parquet('data/homework/fhvhv/2021/06/', mode=\"overwrite\")"
   ]
  },
  {
   "cell_type": "code",
   "execution_count": 8,
   "id": "58989b55",
   "metadata": {
    "scrolled": true
   },
   "outputs": [],
   "source": [
    "df = spark.read.parquet('data/homework/fhvhv/2021/06/')"
   ]
  },
  {
   "cell_type": "code",
   "execution_count": 9,
   "id": "83646f51",
   "metadata": {},
   "outputs": [
    {
     "name": "stdout",
     "output_type": "stream",
     "text": [
      "total 270M\r\n",
      "-rw-r--r-- 1 aditya aditya   0 Feb 23 06:12 _SUCCESS\r\n",
      "-rw-r--r-- 1 aditya aditya 23M Feb 23 06:12 part-00000-b5917c75-ab1d-4e58-a921-40db2493dd14-c000.snappy.parquet\r\n",
      "-rw-r--r-- 1 aditya aditya 23M Feb 23 06:12 part-00001-b5917c75-ab1d-4e58-a921-40db2493dd14-c000.snappy.parquet\r\n",
      "-rw-r--r-- 1 aditya aditya 23M Feb 23 06:12 part-00002-b5917c75-ab1d-4e58-a921-40db2493dd14-c000.snappy.parquet\r\n",
      "-rw-r--r-- 1 aditya aditya 23M Feb 23 06:12 part-00003-b5917c75-ab1d-4e58-a921-40db2493dd14-c000.snappy.parquet\r\n",
      "-rw-r--r-- 1 aditya aditya 23M Feb 23 06:12 part-00004-b5917c75-ab1d-4e58-a921-40db2493dd14-c000.snappy.parquet\r\n",
      "-rw-r--r-- 1 aditya aditya 23M Feb 23 06:12 part-00005-b5917c75-ab1d-4e58-a921-40db2493dd14-c000.snappy.parquet\r\n",
      "-rw-r--r-- 1 aditya aditya 23M Feb 23 06:12 part-00006-b5917c75-ab1d-4e58-a921-40db2493dd14-c000.snappy.parquet\r\n",
      "-rw-r--r-- 1 aditya aditya 23M Feb 23 06:12 part-00007-b5917c75-ab1d-4e58-a921-40db2493dd14-c000.snappy.parquet\r\n",
      "-rw-r--r-- 1 aditya aditya 23M Feb 23 06:12 part-00008-b5917c75-ab1d-4e58-a921-40db2493dd14-c000.snappy.parquet\r\n",
      "-rw-r--r-- 1 aditya aditya 23M Feb 23 06:12 part-00009-b5917c75-ab1d-4e58-a921-40db2493dd14-c000.snappy.parquet\r\n",
      "-rw-r--r-- 1 aditya aditya 23M Feb 23 06:12 part-00010-b5917c75-ab1d-4e58-a921-40db2493dd14-c000.snappy.parquet\r\n",
      "-rw-r--r-- 1 aditya aditya 23M Feb 23 06:12 part-00011-b5917c75-ab1d-4e58-a921-40db2493dd14-c000.snappy.parquet\r\n"
     ]
    }
   ],
   "source": [
    "!ls -lh data/homework/fhvhv/2021/06/"
   ]
  },
  {
   "cell_type": "markdown",
   "id": "48b01d2f",
   "metadata": {},
   "source": [
    "### **Q3**: How many taxi trips were there on February 15?"
   ]
  },
  {
   "cell_type": "code",
   "execution_count": 10,
   "id": "f7489aea",
   "metadata": {},
   "outputs": [],
   "source": [
    "from pyspark.sql import functions as F"
   ]
  },
  {
   "cell_type": "code",
   "execution_count": 11,
   "id": "6c2500fd",
   "metadata": {},
   "outputs": [
    {
     "name": "stderr",
     "output_type": "stream",
     "text": [
      "                                                                                \r"
     ]
    },
    {
     "data": {
      "text/plain": [
       "452470"
      ]
     },
     "execution_count": 11,
     "metadata": {},
     "output_type": "execute_result"
    }
   ],
   "source": [
    "df \\\n",
    "    .withColumn('pickup_date', F.to_date(df.pickup_datetime)) \\\n",
    "    .filter(\"pickup_date = '2021-06-15'\") \\\n",
    "    .count()"
   ]
  },
  {
   "cell_type": "markdown",
   "id": "a47e3b01",
   "metadata": {},
   "source": [
    "### Q4. Calculate the duration for each trip. How long was the longest trip in Hours?"
   ]
  },
  {
   "cell_type": "code",
   "execution_count": 18,
   "id": "d0885a6a",
   "metadata": {},
   "outputs": [],
   "source": [
    "df = df \\\n",
    "    .withColumn('trip_duration', F.round((F.col('dropoff_datetime').cast('long') - F.col('pickup_datetime').cast('long')) / 3600, 2)) \\\n",
    "    .orderBy(F.col('trip_duration').desc())"
   ]
  },
  {
   "cell_type": "code",
   "execution_count": 19,
   "id": "f62aed9d",
   "metadata": {},
   "outputs": [
    {
     "name": "stderr",
     "output_type": "stream",
     "text": [
      "[Stage 10:======================================>                  (8 + 4) / 12]\r"
     ]
    },
    {
     "name": "stdout",
     "output_type": "stream",
     "text": [
      "+--------------------+-------------------+-------------------+------------+------------+-------+----------------------+-------------+\n",
      "|dispatching_base_num|    pickup_datetime|   dropoff_datetime|PULocationID|DOLocationID|SR_Flag|Affiliated_base_number|trip_duration|\n",
      "+--------------------+-------------------+-------------------+------------+------------+-------+----------------------+-------------+\n",
      "|              B02872|2021-06-25 13:55:41|2021-06-28 08:48:25|          98|         265|      N|                B02872|        66.88|\n",
      "|              B02765|2021-06-22 12:09:45|2021-06-23 13:42:44|         188|         198|      N|                B02765|        25.55|\n",
      "|              B02879|2021-06-27 10:32:29|2021-06-28 06:31:20|          78|         169|      N|                B02879|        19.98|\n",
      "|              B02800|2021-06-26 22:37:11|2021-06-27 16:49:01|         263|          36|      N|                  null|         18.2|\n",
      "|              B02682|2021-06-23 20:40:43|2021-06-24 13:08:44|           3|         247|      N|                B02682|        16.47|\n",
      "|              B02869|2021-06-23 22:03:31|2021-06-24 12:19:39|         186|         216|      N|                B02869|        14.27|\n",
      "|              B02877|2021-06-24 23:11:00|2021-06-25 13:05:35|         181|          61|      N|                B02877|        13.91|\n",
      "|              B02765|2021-06-04 20:56:02|2021-06-05 08:36:14|          53|         252|      N|                B02765|        11.67|\n",
      "|              B02617|2021-06-27 07:45:19|2021-06-27 19:07:16|         187|         245|      N|                B02617|        11.37|\n",
      "|              B02880|2021-06-20 17:05:12|2021-06-21 04:04:16|         144|         231|      N|                B02880|        10.98|\n",
      "+--------------------+-------------------+-------------------+------------+------------+-------+----------------------+-------------+\n",
      "only showing top 10 rows\n",
      "\n"
     ]
    },
    {
     "name": "stderr",
     "output_type": "stream",
     "text": [
      "                                                                                \r"
     ]
    }
   ],
   "source": [
    "df.show(10)"
   ]
  },
  {
   "cell_type": "markdown",
   "id": "50e918d0",
   "metadata": {},
   "source": [
    "### Q5. Spark’s User Interface which shows application's dashboard runs on which local port?\n",
    "\n",
    "**Ans:** 4040"
   ]
  },
  {
   "cell_type": "markdown",
   "id": "51c8d7e7",
   "metadata": {},
   "source": [
    "### Q6. Using the zone lookup data and the fhvhv June 2021 data, what is the name of the most frequent pickup location zone?"
   ]
  },
  {
   "cell_type": "code",
   "execution_count": 20,
   "id": "f869f27e",
   "metadata": {},
   "outputs": [],
   "source": [
    "lookup_schema = types.StructType([\n",
    "    types.StructField('LocationID', types.IntegerType(), True),\n",
    "    types.StructField('Borough', types.StringType(), True),\n",
    "    types.StructField('zone', types.StringType(), True),\n",
    "    types.StructField('service_zone', types.StringType(), True)\n",
    "])"
   ]
  },
  {
   "cell_type": "code",
   "execution_count": 21,
   "id": "bc6b0b72",
   "metadata": {},
   "outputs": [
    {
     "data": {
      "text/plain": [
       "[Row(LocationID=1, Borough='EWR', zone='Newark Airport', service_zone='EWR'),\n",
       " Row(LocationID=2, Borough='Queens', zone='Jamaica Bay', service_zone='Boro Zone'),\n",
       " Row(LocationID=3, Borough='Bronx', zone='Allerton/Pelham Gardens', service_zone='Boro Zone'),\n",
       " Row(LocationID=4, Borough='Manhattan', zone='Alphabet City', service_zone='Yellow Zone'),\n",
       " Row(LocationID=5, Borough='Staten Island', zone='Arden Heights', service_zone='Boro Zone')]"
      ]
     },
     "execution_count": 21,
     "metadata": {},
     "output_type": "execute_result"
    }
   ],
   "source": [
    "lookup = spark.read \\\n",
    "         .option('header', True) \\\n",
    "         .schema(lookup_schema) \\\n",
    "         .csv('data/taxi_zone_lookup.csv')\n",
    "\n",
    "lookup.take(5)"
   ]
  },
  {
   "cell_type": "code",
   "execution_count": 22,
   "id": "3ba98177",
   "metadata": {},
   "outputs": [],
   "source": [
    "# register a temporary view\n",
    "lookup.createOrReplaceTempView('lookup')\n",
    "df.createOrReplaceTempView('fhv')"
   ]
  },
  {
   "cell_type": "code",
   "execution_count": 27,
   "id": "e3a577ba",
   "metadata": {},
   "outputs": [],
   "source": [
    "num_of_trips_per_pickup_location_id = spark.sql(\"\"\"\n",
    "WITH cte AS \n",
    "(\n",
    "SELECT PULocationID, COUNT(1) AS num_of_trips\n",
    "FROM fhv\n",
    "GROUP BY PULocationID\n",
    "ORDER BY COUNT(1) DESC\n",
    ")\n",
    "SELECT l.zone, cte.num_of_trips\n",
    "FROM cte LEFT JOIN lookup l ON cte.PULocationID = l.LocationID\n",
    "\"\"\")"
   ]
  },
  {
   "cell_type": "code",
   "execution_count": 28,
   "id": "577c9d8f",
   "metadata": {},
   "outputs": [
    {
     "data": {
      "text/plain": [
       "[Row(zone='Crown Heights North', num_of_trips=231279),\n",
       " Row(zone='East Village', num_of_trips=221244),\n",
       " Row(zone='JFK Airport', num_of_trips=188867),\n",
       " Row(zone='Bushwick South', num_of_trips=187929),\n",
       " Row(zone='East New York', num_of_trips=186780),\n",
       " Row(zone='TriBeCa/Civic Center', num_of_trips=164344),\n",
       " Row(zone='LaGuardia Airport', num_of_trips=161596),\n",
       " Row(zone='Union Sq', num_of_trips=158937),\n",
       " Row(zone='West Village', num_of_trips=154698),\n",
       " Row(zone='Astoria', num_of_trips=152493)]"
      ]
     },
     "execution_count": 28,
     "metadata": {},
     "output_type": "execute_result"
    }
   ],
   "source": [
    "num_of_trips_per_pickup_location_id.take(10)"
   ]
  }
 ],
 "metadata": {
  "kernelspec": {
   "display_name": "Python 3 (ipykernel)",
   "language": "python",
   "name": "python3"
  },
  "language_info": {
   "codemirror_mode": {
    "name": "ipython",
    "version": 3
   },
   "file_extension": ".py",
   "mimetype": "text/x-python",
   "name": "python",
   "nbconvert_exporter": "python",
   "pygments_lexer": "ipython3",
   "version": "3.9.13"
  }
 },
 "nbformat": 4,
 "nbformat_minor": 5
}
